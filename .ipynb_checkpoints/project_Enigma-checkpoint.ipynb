{
 "cells": [
  {
   "cell_type": "code",
   "execution_count": 31,
   "metadata": {},
   "outputs": [],
   "source": [
    "alpha=['a','b','c','d','e','f','g','h','i','j','k','l','m','n','o','p','q','r','s','t','u','v','w','x','y','z']\n",
    "def plugBoard(crypt):\n",
    "    plug1=['a','b','c','d','e','f','g','h','i','j']\n",
    "    plug2=['k','l','m','n','o','p','q','r','s','t']\n",
    "    try:\n",
    "        ind=plug1.index(crypt)\n",
    "        return plug2[ind]\n",
    "    except ValueError:\n",
    "        return crypt\n",
    "\n",
    "    \n",
    "    "
   ]
  },
  {
   "cell_type": "code",
   "execution_count": 42,
   "metadata": {},
   "outputs": [],
   "source": [
    "def string_rotation(st, num):\n",
    "    st=st[-num:]+st[:(26-num)]\n",
    "    return st\n",
    "# def rotor(crypt):\n",
    "    \n",
    "# def rotors_box(crypt):\n",
    "    "
   ]
  },
  {
   "cell_type": "code",
   "execution_count": null,
   "metadata": {},
   "outputs": [],
   "source": []
  }
 ],
 "metadata": {
  "kernelspec": {
   "display_name": "Python 3",
   "language": "python",
   "name": "python3"
  },
  "language_info": {
   "codemirror_mode": {
    "name": "ipython",
    "version": 3
   },
   "file_extension": ".py",
   "mimetype": "text/x-python",
   "name": "python",
   "nbconvert_exporter": "python",
   "pygments_lexer": "ipython3",
   "version": "3.7.4"
  }
 },
 "nbformat": 4,
 "nbformat_minor": 2
}
